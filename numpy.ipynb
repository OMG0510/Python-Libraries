{
  "nbformat": 4,
  "nbformat_minor": 0,
  "metadata": {
    "colab": {
      "provenance": [],
      "toc_visible": true,
      "authorship_tag": "ABX9TyPKpVbo6G2eQkP+IOABiMPE",
      "include_colab_link": true
    },
    "kernelspec": {
      "name": "python3",
      "display_name": "Python 3"
    },
    "language_info": {
      "name": "python"
    }
  },
  "cells": [
    {
      "cell_type": "markdown",
      "metadata": {
        "id": "view-in-github",
        "colab_type": "text"
      },
      "source": [
        "<a href=\"https://colab.research.google.com/github/SigmaMale0510/Python-Libraries/blob/main/numpy.ipynb\" target=\"_parent\"><img src=\"https://colab.research.google.com/assets/colab-badge.svg\" alt=\"Open In Colab\"/></a>"
      ]
    },
    {
      "cell_type": "code",
      "source": [
        "import numpy as np"
      ],
      "metadata": {
        "id": "_xz4HO8V6aZP"
      },
      "execution_count": 2,
      "outputs": []
    },
    {
      "cell_type": "code",
      "execution_count": 3,
      "metadata": {
        "colab": {
          "base_uri": "https://localhost:8080/"
        },
        "id": "yQUVPraL4mYI",
        "outputId": "44adc442-3e0e-4642-f522-ccbc8eea998f"
      },
      "outputs": [
        {
          "output_type": "stream",
          "name": "stdout",
          "text": [
            "1. Creating Arrays:\n",
            "1D Array: [1 2 3 4 5]\n",
            "2D Array:\n",
            " [[1 2 3]\n",
            " [4 5 6]]\n"
          ]
        }
      ],
      "source": [
        "# 1. Creating Arrays\n",
        "print(\"1. Creating Arrays:\")\n",
        "a = np.array([1, 2, 3, 4, 5])  # 1D array\n",
        "print(\"1D Array:\", a)\n",
        "\n",
        "b = np.array([[1, 2, 3], [4, 5, 6]])  # 2D array\n",
        "print(\"2D Array:\\n\", b)"
      ]
    },
    {
      "cell_type": "code",
      "source": [
        "# 2. Array Properties\n",
        "print(\"\\n2. Array Properties:\")\n",
        "print(\"Shape of b:\", b.shape)\n",
        "print(\"Dimensions of b:\", b.ndim)\n",
        "print(\"Size of b:\", b.size)\n",
        "print(\"Data type of elements in b:\", b.dtype)\n"
      ],
      "metadata": {
        "colab": {
          "base_uri": "https://localhost:8080/"
        },
        "id": "5C162Xio5doh",
        "outputId": "c283a899-b21b-4f66-c00f-63d96aa77e4b"
      },
      "execution_count": 4,
      "outputs": [
        {
          "output_type": "stream",
          "name": "stdout",
          "text": [
            "\n",
            "2. Array Properties:\n",
            "Shape of b: (2, 3)\n",
            "Dimensions of b: 2\n",
            "Size of b: 6\n",
            "Data type of elements in b: int64\n"
          ]
        }
      ]
    },
    {
      "cell_type": "code",
      "source": [
        "# 3. Array Creation Functions\n",
        "print(\"\\n3. Array Creation Functions:\")\n",
        "zeros = np.zeros((2, 3))  # Array of zeros\n",
        "print(\"Zeros Array:\\n\", zeros)\n",
        "\n",
        "ones = np.ones((3, 2))  # Array of ones\n",
        "print(\"Ones Array:\\n\", ones)\n",
        "\n",
        "identity = np.eye(3)  # Identity matrix\n",
        "print(\"Identity Matrix:\\n\", identity)"
      ],
      "metadata": {
        "id": "R-p8klmb5oNW"
      },
      "execution_count": null,
      "outputs": []
    },
    {
      "cell_type": "code",
      "source": [
        "# 4. Array Manipulation\n",
        "print(\"\\n4. Array Manipulation:\")\n",
        "flattened = b.flatten()  # Flatten the 2D array into 1D\n",
        "print(\"Flattened Array:\", flattened)\n",
        "\n",
        "reshaped = b.reshape((3, 2))  # Reshape 2D array to another shape\n",
        "print(\"Reshaped Array:\\n\", reshaped)\n"
      ],
      "metadata": {
        "id": "DcrEvajK5sQg"
      },
      "execution_count": null,
      "outputs": []
    },
    {
      "cell_type": "code",
      "source": [
        "# 5. Mathematical Operations\n",
        "print(\"\\n5. Mathematical Operations:\")\n",
        "sum_array = np.sum(b)  # Sum of all elements\n",
        "print(\"Sum of elements in b:\", sum_array)\n",
        "\n",
        "mean_array = np.mean(b)  # Mean of all elements\n",
        "print(\"Mean of elements in b:\", mean_array)\n",
        "\n",
        "max_value = np.max(b)  # Maximum value\n",
        "print(\"Maximum value in b:\", max_value)\n",
        "\n",
        "min_value = np.min(b)  # Minimum value\n",
        "print(\"Minimum value in b:\", min_value)"
      ],
      "metadata": {
        "id": "2yQwh16351Mt"
      },
      "execution_count": null,
      "outputs": []
    },
    {
      "cell_type": "code",
      "source": [
        "# 6. Array Indexing and Slicing\n",
        "print(\"\\n6. Array Indexing and Slicing:\")\n",
        "print(\"Element at (1, 2):\", b[1, 2])  # Accessing a specific element"
      ],
      "metadata": {
        "id": "Wq-WpTdU54Xk"
      },
      "execution_count": null,
      "outputs": []
    },
    {
      "cell_type": "code",
      "source": [
        "# 6. Array Indexing and Slicing\n",
        "print(\"\\n6. Array Indexing and Slicing:\")\n",
        "print(\"Element at (1, 2):\", b[1, 2])  # Accessing a specific element\n",
        "\n",
        "print(\"Slicing first two rows:\\n\", b[:2])  # Slicing rows"
      ],
      "metadata": {
        "id": "CstcdmRg54R8"
      },
      "execution_count": null,
      "outputs": []
    },
    {
      "cell_type": "code",
      "source": [
        "# 7. Mathematical Functions\n",
        "print(\"\\n7. Mathematical Functions:\")\n",
        "sqrt_array = np.sqrt(b)  # Element-wise square root\n",
        "print(\"Square root of b:\\n\", sqrt_array)\n",
        "\n",
        "log_array = np.log(b)  # Element-wise natural logarithm\n",
        "print(\"Natural log of b:\\n\", log_array)"
      ],
      "metadata": {
        "id": "Fn5gxXvr6EhK"
      },
      "execution_count": null,
      "outputs": []
    },
    {
      "cell_type": "code",
      "source": [
        "# 8. Linear Algebra\n",
        "print(\"\\n8. Linear Algebra:\")\n",
        "c = np.array([[1, 2], [3, 4]])\n",
        "d = np.array([[5, 6], [7, 8]])\n",
        "\n",
        "dot_product = np.dot(c, d)  # Matrix multiplication\n",
        "print(\"Dot product of c and d:\\n\", dot_product)\n",
        "\n",
        "eigenvalues, eigenvectors = np.linalg.eig(c)  # Eigenvalues and eigenvectors\n",
        "print(\"Eigenvalues of c:\", eigenvalues)\n",
        "print(\"Eigenvectors of c:\\n\", eigenvectors)\n"
      ],
      "metadata": {
        "id": "i9rzNjk06Jl-"
      },
      "execution_count": null,
      "outputs": []
    },
    {
      "cell_type": "code",
      "source": [
        "# 9. Random Numbers\n",
        "print(\"\\n9. Random Numbers:\")\n",
        "random_array = np.random.rand(3, 3)  # Array of random numbers\n",
        "print(\"Random Array:\\n\", random_array)\n",
        "\n",
        "random_integers = np.random.randint(0, 10, size=(2, 5))  # Array of random integers\n",
        "print(\"Random Integers Array:\\n\", random_integers)"
      ],
      "metadata": {
        "id": "oB_XNso26NS5"
      },
      "execution_count": null,
      "outputs": []
    },
    {
      "cell_type": "code",
      "source": [
        "# 10. Saving and Loading Arrays\n",
        "print(\"\\n10. Saving and Loading Arrays:\")\n",
        "np.save('array.npy', b)  # Save array to file\n",
        "loaded_array = np.load('array.npy')  # Load array from file\n",
        "print(\"Loaded Array:\\n\", loaded_array)"
      ],
      "metadata": {
        "id": "Eq-PmT7g6WEU"
      },
      "execution_count": null,
      "outputs": []
    }
  ]
}