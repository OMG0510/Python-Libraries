{
  "nbformat": 4,
  "nbformat_minor": 0,
  "metadata": {
    "colab": {
      "provenance": [],
      "toc_visible": true,
      "authorship_tag": "ABX9TyOddAjwA0PnKyIABieSwdJS",
      "include_colab_link": true
    },
    "kernelspec": {
      "name": "python3",
      "display_name": "Python 3"
    },
    "language_info": {
      "name": "python"
    }
  },
  "cells": [
    {
      "cell_type": "markdown",
      "metadata": {
        "id": "view-in-github",
        "colab_type": "text"
      },
      "source": [
        "<a href=\"https://colab.research.google.com/github/SigmaMale0510/Python-Libraries/blob/python/numpy.ipynb\" target=\"_parent\"><img src=\"https://colab.research.google.com/assets/colab-badge.svg\" alt=\"Open In Colab\"/></a>"
      ]
    },
    {
      "cell_type": "code",
      "source": [
        "import numpy as np"
      ],
      "metadata": {
        "id": "_xz4HO8V6aZP"
      },
      "execution_count": 2,
      "outputs": []
    },
    {
      "cell_type": "code",
      "execution_count": 3,
      "metadata": {
        "colab": {
          "base_uri": "https://localhost:8080/"
        },
        "id": "yQUVPraL4mYI",
        "outputId": "44adc442-3e0e-4642-f522-ccbc8eea998f"
      },
      "outputs": [
        {
          "output_type": "stream",
          "name": "stdout",
          "text": [
            "1. Creating Arrays:\n",
            "1D Array: [1 2 3 4 5]\n",
            "2D Array:\n",
            " [[1 2 3]\n",
            " [4 5 6]]\n"
          ]
        }
      ],
      "source": [
        "# 1. Creating Arrays\n",
        "print(\"1. Creating Arrays:\")\n",
        "a = np.array([1, 2, 3, 4, 5])  # 1D array\n",
        "print(\"1D Array:\", a)\n",
        "\n",
        "b = np.array([[1, 2, 3], [4, 5, 6]])  # 2D array\n",
        "print(\"2D Array:\\n\", b)"
      ]
    },
    {
      "cell_type": "code",
      "source": [
        "# 2. Array Properties\n",
        "print(\"\\n2. Array Properties:\")\n",
        "print(\"Shape of b:\", b.shape)\n",
        "print(\"Dimensions of b:\", b.ndim)\n",
        "print(\"Size of b:\", b.size)\n",
        "print(\"Data type of elements in b:\", b.dtype)\n"
      ],
      "metadata": {
        "colab": {
          "base_uri": "https://localhost:8080/"
        },
        "id": "5C162Xio5doh",
        "outputId": "2888c210-3ca8-4734-862b-e18152945a88"
      },
      "execution_count": 6,
      "outputs": [
        {
          "output_type": "stream",
          "name": "stdout",
          "text": [
            "\n",
            "2. Array Properties:\n",
            "Shape of b: (2, 3)\n",
            "Dimensions of b: 2\n",
            "Size of b: 6\n",
            "Data type of elements in b: int64\n"
          ]
        }
      ]
    },
    {
      "cell_type": "code",
      "source": [
        "# 3. Array Creation Functions\n",
        "print(\"\\n3. Array Creation Functions:\")\n",
        "zeros = np.zeros((2, 3))  # Array of zeros\n",
        "print(\"Zeros Array:\\n\", zeros)\n",
        "\n",
        "ones = np.ones((3, 2))  # Array of ones\n",
        "print(\"Ones Array:\\n\", ones)\n",
        "\n",
        "identity = np.eye(3)  # Identity matrix\n",
        "print(\"Identity Matrix:\\n\", identity)"
      ],
      "metadata": {
        "colab": {
          "base_uri": "https://localhost:8080/"
        },
        "id": "R-p8klmb5oNW",
        "outputId": "e38c6156-6e22-4f23-8b7b-cf146a8fdfdb"
      },
      "execution_count": 7,
      "outputs": [
        {
          "output_type": "stream",
          "name": "stdout",
          "text": [
            "\n",
            "3. Array Creation Functions:\n",
            "Zeros Array:\n",
            " [[0. 0. 0.]\n",
            " [0. 0. 0.]]\n",
            "Ones Array:\n",
            " [[1. 1.]\n",
            " [1. 1.]\n",
            " [1. 1.]]\n",
            "Identity Matrix:\n",
            " [[1. 0. 0.]\n",
            " [0. 1. 0.]\n",
            " [0. 0. 1.]]\n"
          ]
        }
      ]
    },
    {
      "cell_type": "code",
      "source": [
        "# 4. Array Manipulation\n",
        "print(\"\\n4. Array Manipulation:\")\n",
        "flattened = b.flatten()  # Flatten the 2D array into 1D\n",
        "print(\"Flattened Array:\", flattened)\n",
        "\n",
        "reshaped = b.reshape((3, 2))  # Reshape 2D array to another shape\n",
        "print(\"Reshaped Array:\\n\", reshaped)\n"
      ],
      "metadata": {
        "colab": {
          "base_uri": "https://localhost:8080/"
        },
        "id": "DcrEvajK5sQg",
        "outputId": "8b564945-c746-46ef-caf5-4e45f951c4f6"
      },
      "execution_count": 8,
      "outputs": [
        {
          "output_type": "stream",
          "name": "stdout",
          "text": [
            "\n",
            "4. Array Manipulation:\n",
            "Flattened Array: [1 2 3 4 5 6]\n",
            "Reshaped Array:\n",
            " [[1 2]\n",
            " [3 4]\n",
            " [5 6]]\n"
          ]
        }
      ]
    },
    {
      "cell_type": "code",
      "source": [
        "# 5. Mathematical Operations\n",
        "print(\"\\n5. Mathematical Operations:\")\n",
        "sum_array = np.sum(b)  # Sum of all elements\n",
        "print(\"Sum of elements in b:\", sum_array)\n",
        "\n",
        "mean_array = np.mean(b)  # Mean of all elements\n",
        "print(\"Mean of elements in b:\", mean_array)\n",
        "\n",
        "max_value = np.max(b)  # Maximum value\n",
        "print(\"Maximum value in b:\", max_value)\n",
        "\n",
        "min_value = np.min(b)  # Minimum value\n",
        "print(\"Minimum value in b:\", min_value)"
      ],
      "metadata": {
        "colab": {
          "base_uri": "https://localhost:8080/"
        },
        "id": "2yQwh16351Mt",
        "outputId": "646eff4c-9cd3-4064-86f2-325b68b0e945"
      },
      "execution_count": 9,
      "outputs": [
        {
          "output_type": "stream",
          "name": "stdout",
          "text": [
            "\n",
            "5. Mathematical Operations:\n",
            "Sum of elements in b: 21\n",
            "Mean of elements in b: 3.5\n",
            "Maximum value in b: 6\n",
            "Minimum value in b: 1\n"
          ]
        }
      ]
    },
    {
      "cell_type": "code",
      "source": [
        "# 6. Array Indexing and Slicing\n",
        "print(\"\\n6. Array Indexing and Slicing:\")\n",
        "print(\"Element at (1, 2):\", b[1, 2])        # Accessing a specific element\n",
        "\n",
        "print(\"Slicing first two rows:\\n\", b[:2])   # Slicing rows"
      ],
      "metadata": {
        "colab": {
          "base_uri": "https://localhost:8080/"
        },
        "id": "CstcdmRg54R8",
        "outputId": "2b3bd8b9-8558-46d4-e8e7-35bb8f31c402"
      },
      "execution_count": 12,
      "outputs": [
        {
          "output_type": "stream",
          "name": "stdout",
          "text": [
            "\n",
            "6. Array Indexing and Slicing:\n",
            "Element at (1, 2): 6\n",
            "Slicing first two rows:\n",
            " [[1 2 3]\n",
            " [4 5 6]]\n"
          ]
        }
      ]
    },
    {
      "cell_type": "code",
      "source": [
        "# 7. Mathematical Functions\n",
        "print(\"\\n7. Mathematical Functions:\")\n",
        "sqrt_array = np.sqrt(b)  # Element-wise square root\n",
        "print(\"Square root of b:\\n\", sqrt_array)\n",
        "\n",
        "log_array = np.log(b)  # Element-wise natural logarithm\n",
        "print(\"Natural log of b:\\n\", log_array)"
      ],
      "metadata": {
        "colab": {
          "base_uri": "https://localhost:8080/"
        },
        "id": "Fn5gxXvr6EhK",
        "outputId": "e8d6028c-a634-4ae8-bb40-ea2f7e2b8a62"
      },
      "execution_count": 13,
      "outputs": [
        {
          "output_type": "stream",
          "name": "stdout",
          "text": [
            "\n",
            "7. Mathematical Functions:\n",
            "Square root of b:\n",
            " [[1.         1.41421356 1.73205081]\n",
            " [2.         2.23606798 2.44948974]]\n",
            "Natural log of b:\n",
            " [[0.         0.69314718 1.09861229]\n",
            " [1.38629436 1.60943791 1.79175947]]\n"
          ]
        }
      ]
    },
    {
      "cell_type": "code",
      "source": [
        "# 8. Linear Algebra\n",
        "print(\"\\n8. Linear Algebra:\")\n",
        "c = np.array([[1, 2], [3, 4]])\n",
        "d = np.array([[5, 6], [7, 8]])\n",
        "\n",
        "dot_product = np.dot(c, d)  # Matrix multiplication\n",
        "print(\"Dot product of c and d:\\n\", dot_product)\n",
        "\n",
        "eigenvalues, eigenvectors = np.linalg.eig(c)  # Eigenvalues and eigenvectors\n",
        "print(\"Eigenvalues of c:\", eigenvalues)\n",
        "print(\"Eigenvectors of c:\\n\", eigenvectors)\n"
      ],
      "metadata": {
        "colab": {
          "base_uri": "https://localhost:8080/"
        },
        "id": "i9rzNjk06Jl-",
        "outputId": "7ffbadcf-a1db-4b31-df4b-e3afdca16c36"
      },
      "execution_count": 14,
      "outputs": [
        {
          "output_type": "stream",
          "name": "stdout",
          "text": [
            "\n",
            "8. Linear Algebra:\n",
            "Dot product of c and d:\n",
            " [[19 22]\n",
            " [43 50]]\n",
            "Eigenvalues of c: [-0.37228132  5.37228132]\n",
            "Eigenvectors of c:\n",
            " [[-0.82456484 -0.41597356]\n",
            " [ 0.56576746 -0.90937671]]\n"
          ]
        }
      ]
    },
    {
      "cell_type": "code",
      "source": [
        "# 9. Random Numbers\n",
        "print(\"\\n9. Random Numbers:\")\n",
        "random_array = np.random.rand(3, 3)  # Array of random numbers\n",
        "print(\"Random Array:\\n\", random_array)\n",
        "\n",
        "random_integers = np.random.randint(0, 10, size=(2, 5))  # Array of random integers\n",
        "print(\"Random Integers Array:\\n\", random_integers)"
      ],
      "metadata": {
        "colab": {
          "base_uri": "https://localhost:8080/"
        },
        "id": "oB_XNso26NS5",
        "outputId": "d55011e5-efbf-4e60-fc18-ac4b47bbc06e"
      },
      "execution_count": 15,
      "outputs": [
        {
          "output_type": "stream",
          "name": "stdout",
          "text": [
            "\n",
            "9. Random Numbers:\n",
            "Random Array:\n",
            " [[0.65572961 0.91910821 0.73245443]\n",
            " [0.57251187 0.73052044 0.77184453]\n",
            " [0.97988242 0.39734348 0.78745704]]\n",
            "Random Integers Array:\n",
            " [[5 7 9 2 9]\n",
            " [8 5 7 2 2]]\n"
          ]
        }
      ]
    },
    {
      "cell_type": "code",
      "source": [
        "# 10. Saving and Loading Arrays\n",
        "print(\"\\n10. Saving and Loading Arrays:\")\n",
        "np.save('array.npy', b)  # Save array to file\n",
        "loaded_array = np.load('array.npy')  # Load array from file\n",
        "print(\"Loaded Array:\\n\", loaded_array)"
      ],
      "metadata": {
        "colab": {
          "base_uri": "https://localhost:8080/"
        },
        "id": "Eq-PmT7g6WEU",
        "outputId": "d8b1b9c4-da5f-4789-e606-680c07f19d85"
      },
      "execution_count": 16,
      "outputs": [
        {
          "output_type": "stream",
          "name": "stdout",
          "text": [
            "\n",
            "10. Saving and Loading Arrays:\n",
            "Loaded Array:\n",
            " [[1 2 3]\n",
            " [4 5 6]]\n"
          ]
        }
      ]
    }
  ]
}